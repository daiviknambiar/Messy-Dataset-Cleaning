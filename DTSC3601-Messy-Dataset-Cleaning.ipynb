{
 "cells": [
  {
   "cell_type": "code",
   "execution_count": 2,
   "id": "ed4a593b",
   "metadata": {},
   "outputs": [],
   "source": [
    "#import packages\n",
    "import pandas as pd\n",
    "import numpy as np\n",
    "import matplotlib.pyplot as plt\n",
    "import seaborn as sns"
   ]
  },
  {
   "cell_type": "markdown",
   "id": "35811974",
   "metadata": {},
   "source": [
    "STEP 1"
   ]
  },
  {
   "cell_type": "code",
   "execution_count": 3,
   "id": "b4ad20b1",
   "metadata": {},
   "outputs": [
    {
     "name": "stdout",
     "output_type": "stream",
     "text": [
      "Rows: 100, Columns: 8\n",
      "\n",
      "\n",
      "Missing Values: \n",
      "CustomerID           0\n",
      "Age                 12\n",
      "State               15\n",
      "Income              17\n",
      "Purchases           16\n",
      "LastPurchaseDate    21\n",
      "Review              23\n",
      "Churn               24\n",
      "dtype: int64\n",
      "\n",
      "\n",
      "Duplicates: 0\n"
     ]
    },
    {
     "data": {
      "text/html": [
       "<div>\n",
       "<style scoped>\n",
       "    .dataframe tbody tr th:only-of-type {\n",
       "        vertical-align: middle;\n",
       "    }\n",
       "\n",
       "    .dataframe tbody tr th {\n",
       "        vertical-align: top;\n",
       "    }\n",
       "\n",
       "    .dataframe thead th {\n",
       "        text-align: right;\n",
       "    }\n",
       "</style>\n",
       "<table border=\"1\" class=\"dataframe\">\n",
       "  <thead>\n",
       "    <tr style=\"text-align: right;\">\n",
       "      <th></th>\n",
       "      <th>CustomerID</th>\n",
       "      <th>Age</th>\n",
       "      <th>State</th>\n",
       "      <th>Income</th>\n",
       "      <th>Purchases</th>\n",
       "      <th>LastPurchaseDate</th>\n",
       "      <th>Review</th>\n",
       "      <th>Churn</th>\n",
       "    </tr>\n",
       "  </thead>\n",
       "  <tbody>\n",
       "    <tr>\n",
       "      <th>0</th>\n",
       "      <td>CUST001</td>\n",
       "      <td>40.0</td>\n",
       "      <td>CA</td>\n",
       "      <td>40000.0</td>\n",
       "      <td>0.0</td>\n",
       "      <td>NaN</td>\n",
       "      <td>NaN</td>\n",
       "      <td>NaN</td>\n",
       "    </tr>\n",
       "    <tr>\n",
       "      <th>1</th>\n",
       "      <td>CUST002</td>\n",
       "      <td>40.0</td>\n",
       "      <td>california</td>\n",
       "      <td>40000.0</td>\n",
       "      <td>1.0</td>\n",
       "      <td>NaN</td>\n",
       "      <td>NaN</td>\n",
       "      <td>NaN</td>\n",
       "    </tr>\n",
       "    <tr>\n",
       "      <th>2</th>\n",
       "      <td>CUST003</td>\n",
       "      <td>60.0</td>\n",
       "      <td>NY</td>\n",
       "      <td>40000.0</td>\n",
       "      <td>10.0</td>\n",
       "      <td>2021-13-40</td>\n",
       "      <td>NaN</td>\n",
       "      <td>N</td>\n",
       "    </tr>\n",
       "    <tr>\n",
       "      <th>3</th>\n",
       "      <td>CUST004</td>\n",
       "      <td>200.0</td>\n",
       "      <td>California</td>\n",
       "      <td>1000000.0</td>\n",
       "      <td>10.0</td>\n",
       "      <td>2021-13-40</td>\n",
       "      <td>Great product!</td>\n",
       "      <td>Y</td>\n",
       "    </tr>\n",
       "    <tr>\n",
       "      <th>4</th>\n",
       "      <td>CUST005</td>\n",
       "      <td>200.0</td>\n",
       "      <td>CA</td>\n",
       "      <td>40000.0</td>\n",
       "      <td>NaN</td>\n",
       "      <td>5/20/2021</td>\n",
       "      <td>Loved it!!!</td>\n",
       "      <td>Yes</td>\n",
       "    </tr>\n",
       "  </tbody>\n",
       "</table>\n",
       "</div>"
      ],
      "text/plain": [
       "  CustomerID    Age       State     Income  Purchases LastPurchaseDate  \\\n",
       "0    CUST001   40.0          CA    40000.0        0.0              NaN   \n",
       "1    CUST002   40.0  california    40000.0        1.0              NaN   \n",
       "2    CUST003   60.0          NY    40000.0       10.0       2021-13-40   \n",
       "3    CUST004  200.0  California  1000000.0       10.0       2021-13-40   \n",
       "4    CUST005  200.0          CA    40000.0        NaN        5/20/2021   \n",
       "\n",
       "           Review Churn  \n",
       "0             NaN   NaN  \n",
       "1             NaN   NaN  \n",
       "2             NaN     N  \n",
       "3  Great product!     Y  \n",
       "4     Loved it!!!   Yes  "
      ]
     },
     "execution_count": 3,
     "metadata": {},
     "output_type": "execute_result"
    }
   ],
   "source": [
    "###---- STEP 1---####\n",
    "\n",
    "#Loading data and exploring shape and variables\n",
    "messy_dataset_original = pd.read_csv('/Users/daivik/Downloads/messy_dataset.csv')\n",
    "\n",
    "#Initial processing, finding rows and columns, exploring what null variables there are, etc. \n",
    "rows, columns = messy_dataset_original.shape\n",
    "print(f\"Rows: {rows}, Columns: {columns}\")\n",
    "\n",
    "print(\"\\n\")\n",
    "\n",
    "missing_values = messy_dataset_original.isnull().sum()\n",
    "print(f\"Missing Values: \\n{missing_values}\")\n",
    "\n",
    "print(\"\\n\")\n",
    "\n",
    "#Examining if there are duplicate values\n",
    "duplicates = messy_dataset_original.duplicated().sum()\n",
    "print(f\"Duplicates: {duplicates}\")\n",
    "\n",
    "#Looking at basic identity of the dataset \n",
    "messy_dataset_original.head()\n"
   ]
  },
  {
   "cell_type": "markdown",
   "id": "2a62fbf7",
   "metadata": {},
   "source": [
    "We can see from looking at the initial head of the dataset, there are lots of red flags. There are ages in the 200's, the majority of the columns are formatted differently. For example, state is written in all types of cases/abbreviations, there are null values, Dates are written differently. "
   ]
  },
  {
   "cell_type": "code",
   "execution_count": 4,
   "id": "4ebce14b",
   "metadata": {},
   "outputs": [
    {
     "name": "stdout",
     "output_type": "stream",
     "text": [
      "Percentage of Missing Values: \n",
      "CustomerID           0.0\n",
      "Age                 12.0\n",
      "State               15.0\n",
      "Income              17.0\n",
      "Purchases           16.0\n",
      "LastPurchaseDate    21.0\n",
      "Review              23.0\n",
      "Churn               24.0\n",
      "dtype: float64\n"
     ]
    }
   ],
   "source": [
    "###---- STEP 2---####\n",
    "\n",
    "# We already have missing values defined, so we can go more in depth into it\n",
    "missing_values_percentage = missing_values / rows * 100\n",
    "print(f\"Percentage of Missing Values: \\n{missing_values_percentage}\")\n"
   ]
  },
  {
   "cell_type": "markdown",
   "id": "1ef9461b",
   "metadata": {},
   "source": [
    "We can see there are some columns with a decent amount of missing values. I think the best quick solution is to take the mean to replace null values. With more time, we can think about filtering for specific criteria. "
   ]
  },
  {
   "cell_type": "code",
   "execution_count": 5,
   "id": "16be0fc0",
   "metadata": {},
   "outputs": [
    {
     "data": {
      "text/html": [
       "<div>\n",
       "<style scoped>\n",
       "    .dataframe tbody tr th:only-of-type {\n",
       "        vertical-align: middle;\n",
       "    }\n",
       "\n",
       "    .dataframe tbody tr th {\n",
       "        vertical-align: top;\n",
       "    }\n",
       "\n",
       "    .dataframe thead th {\n",
       "        text-align: right;\n",
       "    }\n",
       "</style>\n",
       "<table border=\"1\" class=\"dataframe\">\n",
       "  <thead>\n",
       "    <tr style=\"text-align: right;\">\n",
       "      <th></th>\n",
       "      <th>CustomerID</th>\n",
       "      <th>Age</th>\n",
       "      <th>State</th>\n",
       "      <th>Income</th>\n",
       "      <th>Purchases</th>\n",
       "      <th>LastPurchaseDate</th>\n",
       "      <th>Review</th>\n",
       "      <th>Churn</th>\n",
       "    </tr>\n",
       "  </thead>\n",
       "  <tbody>\n",
       "    <tr>\n",
       "      <th>0</th>\n",
       "      <td>CUST001</td>\n",
       "      <td>40.0</td>\n",
       "      <td>CA</td>\n",
       "      <td>40000.0</td>\n",
       "      <td>0.000000</td>\n",
       "      <td>NaN</td>\n",
       "      <td>NaN</td>\n",
       "      <td>NaN</td>\n",
       "    </tr>\n",
       "    <tr>\n",
       "      <th>1</th>\n",
       "      <td>CUST002</td>\n",
       "      <td>40.0</td>\n",
       "      <td>california</td>\n",
       "      <td>40000.0</td>\n",
       "      <td>1.000000</td>\n",
       "      <td>NaN</td>\n",
       "      <td>NaN</td>\n",
       "      <td>NaN</td>\n",
       "    </tr>\n",
       "    <tr>\n",
       "      <th>2</th>\n",
       "      <td>CUST003</td>\n",
       "      <td>60.0</td>\n",
       "      <td>NY</td>\n",
       "      <td>40000.0</td>\n",
       "      <td>10.000000</td>\n",
       "      <td>2021-13-40</td>\n",
       "      <td>NaN</td>\n",
       "      <td>N</td>\n",
       "    </tr>\n",
       "    <tr>\n",
       "      <th>3</th>\n",
       "      <td>CUST004</td>\n",
       "      <td>200.0</td>\n",
       "      <td>California</td>\n",
       "      <td>1000000.0</td>\n",
       "      <td>10.000000</td>\n",
       "      <td>2021-13-40</td>\n",
       "      <td>Great product!</td>\n",
       "      <td>Y</td>\n",
       "    </tr>\n",
       "    <tr>\n",
       "      <th>4</th>\n",
       "      <td>CUST005</td>\n",
       "      <td>200.0</td>\n",
       "      <td>CA</td>\n",
       "      <td>40000.0</td>\n",
       "      <td>2.928571</td>\n",
       "      <td>5/20/2021</td>\n",
       "      <td>Loved it!!!</td>\n",
       "      <td>Yes</td>\n",
       "    </tr>\n",
       "    <tr>\n",
       "      <th>...</th>\n",
       "      <td>...</td>\n",
       "      <td>...</td>\n",
       "      <td>...</td>\n",
       "      <td>...</td>\n",
       "      <td>...</td>\n",
       "      <td>...</td>\n",
       "      <td>...</td>\n",
       "      <td>...</td>\n",
       "    </tr>\n",
       "    <tr>\n",
       "      <th>95</th>\n",
       "      <td>CUST096</td>\n",
       "      <td>30.0</td>\n",
       "      <td>California</td>\n",
       "      <td>70000.0</td>\n",
       "      <td>10.000000</td>\n",
       "      <td>2021-13-40</td>\n",
       "      <td>Ok</td>\n",
       "      <td>N</td>\n",
       "    </tr>\n",
       "    <tr>\n",
       "      <th>96</th>\n",
       "      <td>CUST097</td>\n",
       "      <td>25.0</td>\n",
       "      <td>CA</td>\n",
       "      <td>50000.0</td>\n",
       "      <td>2.928571</td>\n",
       "      <td>2021-13-40</td>\n",
       "      <td>would buy again</td>\n",
       "      <td>NaN</td>\n",
       "    </tr>\n",
       "    <tr>\n",
       "      <th>97</th>\n",
       "      <td>CUST098</td>\n",
       "      <td>25.0</td>\n",
       "      <td>NaN</td>\n",
       "      <td>1000000.0</td>\n",
       "      <td>1.000000</td>\n",
       "      <td>NaN</td>\n",
       "      <td>Great product!</td>\n",
       "      <td>N</td>\n",
       "    </tr>\n",
       "    <tr>\n",
       "      <th>98</th>\n",
       "      <td>CUST099</td>\n",
       "      <td>25.0</td>\n",
       "      <td>California</td>\n",
       "      <td>50000.0</td>\n",
       "      <td>3.000000</td>\n",
       "      <td>NaN</td>\n",
       "      <td>Great product!</td>\n",
       "      <td>Y</td>\n",
       "    </tr>\n",
       "    <tr>\n",
       "      <th>99</th>\n",
       "      <td>CUST100</td>\n",
       "      <td>-5.0</td>\n",
       "      <td>california</td>\n",
       "      <td>70000.0</td>\n",
       "      <td>2.928571</td>\n",
       "      <td>2021-13-40</td>\n",
       "      <td>Loved it!!!</td>\n",
       "      <td>Y</td>\n",
       "    </tr>\n",
       "  </tbody>\n",
       "</table>\n",
       "<p>100 rows × 8 columns</p>\n",
       "</div>"
      ],
      "text/plain": [
       "   CustomerID    Age       State     Income  Purchases LastPurchaseDate  \\\n",
       "0     CUST001   40.0          CA    40000.0   0.000000              NaN   \n",
       "1     CUST002   40.0  california    40000.0   1.000000              NaN   \n",
       "2     CUST003   60.0          NY    40000.0  10.000000       2021-13-40   \n",
       "3     CUST004  200.0  California  1000000.0  10.000000       2021-13-40   \n",
       "4     CUST005  200.0          CA    40000.0   2.928571        5/20/2021   \n",
       "..        ...    ...         ...        ...        ...              ...   \n",
       "95    CUST096   30.0  California    70000.0  10.000000       2021-13-40   \n",
       "96    CUST097   25.0          CA    50000.0   2.928571       2021-13-40   \n",
       "97    CUST098   25.0         NaN  1000000.0   1.000000              NaN   \n",
       "98    CUST099   25.0  California    50000.0   3.000000              NaN   \n",
       "99    CUST100   -5.0  california    70000.0   2.928571       2021-13-40   \n",
       "\n",
       "             Review Churn  \n",
       "0               NaN   NaN  \n",
       "1               NaN   NaN  \n",
       "2               NaN     N  \n",
       "3    Great product!     Y  \n",
       "4       Loved it!!!   Yes  \n",
       "..              ...   ...  \n",
       "95               Ok     N  \n",
       "96  would buy again   NaN  \n",
       "97   Great product!     N  \n",
       "98   Great product!     Y  \n",
       "99      Loved it!!!     Y  \n",
       "\n",
       "[100 rows x 8 columns]"
      ]
     },
     "execution_count": 5,
     "metadata": {},
     "output_type": "execute_result"
    }
   ],
   "source": [
    "#Fill all numeric columns null values with their mean\n",
    "messy_dataset_original.fillna(messy_dataset_original.select_dtypes(include=['float64', 'int64']).mean())\n"
   ]
  },
  {
   "cell_type": "code",
   "execution_count": 6,
   "id": "dd02cb19",
   "metadata": {},
   "outputs": [
    {
     "data": {
      "text/plain": [
       "Age\n",
       " 25.0     16\n",
       " 45.0     15\n",
       " 50.0     15\n",
       " 200.0    10\n",
       " 60.0      9\n",
       " 40.0      7\n",
       " 30.0      6\n",
       "-5.0       5\n",
       " 35.0      5\n",
       "Name: count, dtype: int64"
      ]
     },
     "execution_count": 6,
     "metadata": {},
     "output_type": "execute_result"
    }
   ],
   "source": [
    "###--- Step 3---###\n",
    "messy_dataset_original.Age.value_counts()"
   ]
  },
  {
   "cell_type": "markdown",
   "id": "51275ee6",
   "metadata": {},
   "source": [
    "We can see the many wrong looking age values here. Since we dont know the stakeholders, I will just replace crazy values with the mean. "
   ]
  },
  {
   "cell_type": "code",
   "execution_count": 7,
   "id": "518a126d",
   "metadata": {},
   "outputs": [
    {
     "data": {
      "text/plain": [
       "Age\n",
       "25.000000    16\n",
       "56.534091    15\n",
       "45.000000    15\n",
       "50.000000    15\n",
       "60.000000     9\n",
       "40.000000     7\n",
       "30.000000     6\n",
       "35.000000     5\n",
       "Name: count, dtype: int64"
      ]
     },
     "execution_count": 7,
     "metadata": {},
     "output_type": "execute_result"
    }
   ],
   "source": [
    "messy_dataset_original['Age'] = messy_dataset_original['Age'].round()\n",
    "age_mean = messy_dataset_original['Age'].mean()\n",
    "messy_dataset_original['Age'] = messy_dataset_original['Age'].replace([200, -5], age_mean)\n",
    "messy_dataset_original.Age.value_counts()\n"
   ]
  },
  {
   "cell_type": "code",
   "execution_count": 8,
   "id": "5431c69d",
   "metadata": {},
   "outputs": [
    {
     "data": {
      "text/plain": [
       "State\n",
       "California    23\n",
       "CA            15\n",
       "california    14\n",
       "newyork       12\n",
       "New York      11\n",
       "NY            10\n",
       "Name: count, dtype: int64"
      ]
     },
     "execution_count": 8,
     "metadata": {},
     "output_type": "execute_result"
    }
   ],
   "source": [
    "messy_dataset_original.State.value_counts()"
   ]
  },
  {
   "cell_type": "markdown",
   "id": "2918a5c5",
   "metadata": {},
   "source": [
    "Since we only have 2 states, I think it is fair to hard code the righ values for them"
   ]
  },
  {
   "cell_type": "code",
   "execution_count": 9,
   "id": "9132b8a4",
   "metadata": {},
   "outputs": [
    {
     "data": {
      "text/plain": [
       "State\n",
       "California    52\n",
       "New York      33\n",
       "Name: count, dtype: int64"
      ]
     },
     "execution_count": 9,
     "metadata": {},
     "output_type": "execute_result"
    }
   ],
   "source": [
    "messy_dataset_original.State = messy_dataset_original.State.replace(['california', 'CA'], 'California')\n",
    "messy_dataset_original.State = messy_dataset_original.State.replace(['NY', 'newyork'], 'New York')\n",
    "messy_dataset_original.State.value_counts()"
   ]
  },
  {
   "cell_type": "markdown",
   "id": "046213c0",
   "metadata": {},
   "source": [
    "I'll do the same for Churn"
   ]
  },
  {
   "cell_type": "code",
   "execution_count": 10,
   "id": "6fc22064",
   "metadata": {},
   "outputs": [
    {
     "data": {
      "text/plain": [
       "Churn\n",
       "No     38\n",
       "Yes    38\n",
       "Name: count, dtype: int64"
      ]
     },
     "execution_count": 10,
     "metadata": {},
     "output_type": "execute_result"
    }
   ],
   "source": [
    "messy_dataset_original.Churn = messy_dataset_original.Churn.replace(['Y'], 'Yes')\n",
    "messy_dataset_original.Churn = messy_dataset_original.Churn.replace(['N'], 'No')\n",
    "messy_dataset_original.Churn.value_counts()"
   ]
  },
  {
   "cell_type": "markdown",
   "id": "9cc40875",
   "metadata": {},
   "source": [
    "Step 4. Inspect Income"
   ]
  },
  {
   "cell_type": "code",
   "execution_count": 11,
   "id": "8cb9afc2",
   "metadata": {},
   "outputs": [
    {
     "data": {
      "text/plain": [
       "Income\n",
       "1000000.0    26\n",
       "50000.0      17\n",
       "40000.0      16\n",
       "60000.0      14\n",
       "70000.0      10\n",
       "Name: count, dtype: int64"
      ]
     },
     "execution_count": 11,
     "metadata": {},
     "output_type": "execute_result"
    }
   ],
   "source": [
    "#Visualizing income distribution\n",
    "messy_dataset_original.Income.value_counts()\n",
    "\n"
   ]
  },
  {
   "cell_type": "code",
   "execution_count": 12,
   "id": "902e26d3",
   "metadata": {},
   "outputs": [
    {
     "data": {
      "text/plain": [
       "<Axes: xlabel='Income', ylabel='Count'>"
      ]
     },
     "execution_count": 12,
     "metadata": {},
     "output_type": "execute_result"
    },
    {
     "data": {
      "image/png": "[encoded data removed]",
      "text/plain": [
       "<Figure size 640x480 with 1 Axes>"
      ]
     },
     "metadata": {},
     "output_type": "display_data"
    }
   ],
   "source": [
    "sns.histplot(messy_dataset_original['Income'], bins=30, kde=True)"
   ]
  },
  {
   "cell_type": "markdown",
   "id": "c259ba10",
   "metadata": {},
   "source": [
    "We can see the data is very skewed with outliers. So many values at 1000000.0 could be a reg flag that they are incorrect, especially since we see the average range from 40000 to 70000. With little information, I think the safest bet is to normalize this to the average. "
   ]
  },
  {
   "cell_type": "code",
   "execution_count": 13,
   "id": "94a81604",
   "metadata": {},
   "outputs": [
    {
     "data": {
      "text/plain": [
       "Income\n",
       "53158.0    26\n",
       "50000.0    17\n",
       "40000.0    16\n",
       "60000.0    14\n",
       "70000.0    10\n",
       "Name: count, dtype: int64"
      ]
     },
     "execution_count": 13,
     "metadata": {},
     "output_type": "execute_result"
    }
   ],
   "source": [
    "income_mean_normalize = messy_dataset_original.loc[messy_dataset_original.Income !=1_000_000.0, 'Income'].mean()\n",
    "messy_dataset_original.Income = messy_dataset_original.Income.replace(1_000_000.0, income_mean_normalize)\n",
    "messy_dataset_original = messy_dataset_original.round()\n",
    "messy_dataset_original.Income.value_counts()"
   ]
  },
  {
   "cell_type": "markdown",
   "id": "3092441a",
   "metadata": {},
   "source": [
    "Now we can retry the distribution"
   ]
  },
  {
   "cell_type": "code",
   "execution_count": 14,
   "id": "41b58662",
   "metadata": {},
   "outputs": [
    {
     "data": {
      "text/plain": [
       "<Axes: xlabel='Income', ylabel='Count'>"
      ]
     },
     "execution_count": 14,
     "metadata": {},
     "output_type": "execute_result"
    },
    {
     "data": {
      "image/png": "[encoded data removed]",
      "text/plain": [
       "<Figure size 640x480 with 1 Axes>"
      ]
     },
     "metadata": {},
     "output_type": "display_data"
    }
   ],
   "source": [
    "sns.histplot(messy_dataset_original['Income'], bins=30, kde=True)"
   ]
  },
  {
   "cell_type": "markdown",
   "id": "62f73528",
   "metadata": {},
   "source": [
    "Step 5 "
   ]
  },
  {
   "cell_type": "code",
   "execution_count": 15,
   "id": "c9d902a0",
   "metadata": {},
   "outputs": [
    {
     "name": "stdout",
     "output_type": "stream",
     "text": [
      "LastPurchaseDate\n",
      "2021-13-40    32\n",
      "7/15/2021     27\n",
      "5/20/2021     20\n",
      "Name: count, dtype: int64\n",
      "object\n"
     ]
    }
   ],
   "source": [
    "print(messy_dataset_original.LastPurchaseDate.value_counts())\n",
    "#data types\n",
    "print(messy_dataset_original.LastPurchaseDate.dtypes)\n",
    "#accidently ran after changing so it says datetime here, it was originally objects"
   ]
  },
  {
   "cell_type": "markdown",
   "id": "7c1cd4d7",
   "metadata": {},
   "source": [
    "Since we see they are stored as strings, we can convert to date time format"
   ]
  },
  {
   "cell_type": "code",
   "execution_count": 16,
   "id": "ee924ed2",
   "metadata": {},
   "outputs": [
    {
     "name": "stderr",
     "output_type": "stream",
     "text": [
      "/var/folders/56/3c156ggn00d8wr2q856gw0140000gn/T/ipykernel_10872/2396841730.py:1: UserWarning: Could not infer format, so each element will be parsed individually, falling back to `dateutil`. To ensure parsing is consistent and as-expected, please specify a format.\n",
      "  messy_dataset_original.LastPurchaseDate = pd.to_datetime(messy_dataset_original.LastPurchaseDate, errors='coerce')\n"
     ]
    },
    {
     "data": {
      "text/plain": [
       "LastPurchaseDate\n",
       "2021-07-15    27\n",
       "2021-05-20    20\n",
       "Name: count, dtype: int64"
      ]
     },
     "execution_count": 16,
     "metadata": {},
     "output_type": "execute_result"
    }
   ],
   "source": [
    "messy_dataset_original.LastPurchaseDate = pd.to_datetime(messy_dataset_original.LastPurchaseDate, errors='coerce')\n",
    "messy_dataset_original.LastPurchaseDate.value_counts()"
   ]
  },
  {
   "cell_type": "code",
   "execution_count": 17,
   "id": "584c75ca",
   "metadata": {},
   "outputs": [
    {
     "name": "stdout",
     "output_type": "stream",
     "text": [
      "LastPurchaseDate\n",
      "True     53\n",
      "False    47\n",
      "Name: count, dtype: int64\n"
     ]
    }
   ],
   "source": [
    "print(messy_dataset_original.LastPurchaseDate.isna().value_counts())"
   ]
  },
  {
   "cell_type": "markdown",
   "id": "2026e327",
   "metadata": {},
   "source": [
    "Step 6"
   ]
  },
  {
   "cell_type": "code",
   "execution_count": 18,
   "id": "8845a94b",
   "metadata": {},
   "outputs": [
    {
     "data": {
      "text/plain": [
       "Review\n",
       "Loved it!!!            15\n",
       "Great product!         13\n",
       "would buy again        13\n",
       "terrible service...    12\n",
       "Ok                     12\n",
       "Horrible!!             12\n",
       "Name: count, dtype: int64"
      ]
     },
     "execution_count": 18,
     "metadata": {},
     "output_type": "execute_result"
    }
   ],
   "source": [
    "messy_dataset_original.Review.value_counts()"
   ]
  },
  {
   "cell_type": "code",
   "execution_count": 24,
   "id": "1ec7080c",
   "metadata": {},
   "outputs": [],
   "source": [
    "#Creating binary values, saving as final dataset\n",
    "cleaned_dataset = messy_dataset_original.assign(PositiveReview = messy_dataset_original.Review.str.contains('great|love|buy again', case=False, na=False).astype(int))"
   ]
  },
  {
   "cell_type": "markdown",
   "id": "7a2d858d",
   "metadata": {},
   "source": [
    "We can see the results here"
   ]
  },
  {
   "cell_type": "code",
   "execution_count": 25,
   "id": "ba007d80",
   "metadata": {},
   "outputs": [
    {
     "data": {
      "text/html": [
       "<div>\n",
       "<style scoped>\n",
       "    .dataframe tbody tr th:only-of-type {\n",
       "        vertical-align: middle;\n",
       "    }\n",
       "\n",
       "    .dataframe tbody tr th {\n",
       "        vertical-align: top;\n",
       "    }\n",
       "\n",
       "    .dataframe thead th {\n",
       "        text-align: right;\n",
       "    }\n",
       "</style>\n",
       "<table border=\"1\" class=\"dataframe\">\n",
       "  <thead>\n",
       "    <tr style=\"text-align: right;\">\n",
       "      <th></th>\n",
       "      <th>Review</th>\n",
       "      <th>PositiveReview</th>\n",
       "    </tr>\n",
       "  </thead>\n",
       "  <tbody>\n",
       "    <tr>\n",
       "      <th>0</th>\n",
       "      <td>NaN</td>\n",
       "      <td>0</td>\n",
       "    </tr>\n",
       "    <tr>\n",
       "      <th>1</th>\n",
       "      <td>NaN</td>\n",
       "      <td>0</td>\n",
       "    </tr>\n",
       "    <tr>\n",
       "      <th>2</th>\n",
       "      <td>NaN</td>\n",
       "      <td>0</td>\n",
       "    </tr>\n",
       "    <tr>\n",
       "      <th>3</th>\n",
       "      <td>Great product!</td>\n",
       "      <td>1</td>\n",
       "    </tr>\n",
       "    <tr>\n",
       "      <th>4</th>\n",
       "      <td>Loved it!!!</td>\n",
       "      <td>1</td>\n",
       "    </tr>\n",
       "    <tr>\n",
       "      <th>5</th>\n",
       "      <td>terrible service...</td>\n",
       "      <td>0</td>\n",
       "    </tr>\n",
       "    <tr>\n",
       "      <th>6</th>\n",
       "      <td>Ok</td>\n",
       "      <td>0</td>\n",
       "    </tr>\n",
       "    <tr>\n",
       "      <th>7</th>\n",
       "      <td>NaN</td>\n",
       "      <td>0</td>\n",
       "    </tr>\n",
       "    <tr>\n",
       "      <th>8</th>\n",
       "      <td>Loved it!!!</td>\n",
       "      <td>1</td>\n",
       "    </tr>\n",
       "    <tr>\n",
       "      <th>9</th>\n",
       "      <td>terrible service...</td>\n",
       "      <td>0</td>\n",
       "    </tr>\n",
       "    <tr>\n",
       "      <th>10</th>\n",
       "      <td>NaN</td>\n",
       "      <td>0</td>\n",
       "    </tr>\n",
       "    <tr>\n",
       "      <th>11</th>\n",
       "      <td>terrible service...</td>\n",
       "      <td>0</td>\n",
       "    </tr>\n",
       "    <tr>\n",
       "      <th>12</th>\n",
       "      <td>terrible service...</td>\n",
       "      <td>0</td>\n",
       "    </tr>\n",
       "    <tr>\n",
       "      <th>13</th>\n",
       "      <td>Loved it!!!</td>\n",
       "      <td>1</td>\n",
       "    </tr>\n",
       "    <tr>\n",
       "      <th>14</th>\n",
       "      <td>NaN</td>\n",
       "      <td>0</td>\n",
       "    </tr>\n",
       "  </tbody>\n",
       "</table>\n",
       "</div>"
      ],
      "text/plain": [
       "                 Review  PositiveReview\n",
       "0                   NaN               0\n",
       "1                   NaN               0\n",
       "2                   NaN               0\n",
       "3        Great product!               1\n",
       "4           Loved it!!!               1\n",
       "5   terrible service...               0\n",
       "6                    Ok               0\n",
       "7                   NaN               0\n",
       "8           Loved it!!!               1\n",
       "9   terrible service...               0\n",
       "10                  NaN               0\n",
       "11  terrible service...               0\n",
       "12  terrible service...               0\n",
       "13          Loved it!!!               1\n",
       "14                  NaN               0"
      ]
     },
     "execution_count": 25,
     "metadata": {},
     "output_type": "execute_result"
    }
   ],
   "source": [
    "cleaned_dataset[['Review', 'PositiveReview']].head(15)"
   ]
  },
  {
   "cell_type": "code",
   "execution_count": 27,
   "id": "0a13e2e1",
   "metadata": {},
   "outputs": [
    {
     "name": "stdout",
     "output_type": "stream",
     "text": [
      "My favorite food is chicken, rice, and guacamole with honey barbecue sauce\n"
     ]
    }
   ],
   "source": [
    "print(\"My favorite food is chicken, rice, and guacamole with honey barbecue sauce\")"
   ]
  },
  {
   "cell_type": "code",
   "execution_count": 26,
   "id": "25a3e21d",
   "metadata": {},
   "outputs": [
    {
     "data": {
      "text/html": [
       "<div>\n",
       "<style scoped>\n",
       "    .dataframe tbody tr th:only-of-type {\n",
       "        vertical-align: middle;\n",
       "    }\n",
       "\n",
       "    .dataframe tbody tr th {\n",
       "        vertical-align: top;\n",
       "    }\n",
       "\n",
       "    .dataframe thead th {\n",
       "        text-align: right;\n",
       "    }\n",
       "</style>\n",
       "<table border=\"1\" class=\"dataframe\">\n",
       "  <thead>\n",
       "    <tr style=\"text-align: right;\">\n",
       "      <th></th>\n",
       "      <th>CustomerID</th>\n",
       "      <th>Age</th>\n",
       "      <th>State</th>\n",
       "      <th>Income</th>\n",
       "      <th>Purchases</th>\n",
       "      <th>LastPurchaseDate</th>\n",
       "      <th>Review</th>\n",
       "      <th>Churn</th>\n",
       "      <th>PositiveReview</th>\n",
       "    </tr>\n",
       "  </thead>\n",
       "  <tbody>\n",
       "    <tr>\n",
       "      <th>0</th>\n",
       "      <td>CUST001</td>\n",
       "      <td>40.0</td>\n",
       "      <td>California</td>\n",
       "      <td>40000.0</td>\n",
       "      <td>0.0</td>\n",
       "      <td>NaT</td>\n",
       "      <td>NaN</td>\n",
       "      <td>NaN</td>\n",
       "      <td>0</td>\n",
       "    </tr>\n",
       "    <tr>\n",
       "      <th>1</th>\n",
       "      <td>CUST002</td>\n",
       "      <td>40.0</td>\n",
       "      <td>California</td>\n",
       "      <td>40000.0</td>\n",
       "      <td>1.0</td>\n",
       "      <td>NaT</td>\n",
       "      <td>NaN</td>\n",
       "      <td>NaN</td>\n",
       "      <td>0</td>\n",
       "    </tr>\n",
       "    <tr>\n",
       "      <th>2</th>\n",
       "      <td>CUST003</td>\n",
       "      <td>60.0</td>\n",
       "      <td>New York</td>\n",
       "      <td>40000.0</td>\n",
       "      <td>10.0</td>\n",
       "      <td>NaT</td>\n",
       "      <td>NaN</td>\n",
       "      <td>No</td>\n",
       "      <td>0</td>\n",
       "    </tr>\n",
       "    <tr>\n",
       "      <th>3</th>\n",
       "      <td>CUST004</td>\n",
       "      <td>57.0</td>\n",
       "      <td>California</td>\n",
       "      <td>53158.0</td>\n",
       "      <td>10.0</td>\n",
       "      <td>NaT</td>\n",
       "      <td>Great product!</td>\n",
       "      <td>Yes</td>\n",
       "      <td>1</td>\n",
       "    </tr>\n",
       "    <tr>\n",
       "      <th>4</th>\n",
       "      <td>CUST005</td>\n",
       "      <td>57.0</td>\n",
       "      <td>California</td>\n",
       "      <td>40000.0</td>\n",
       "      <td>NaN</td>\n",
       "      <td>2021-05-20</td>\n",
       "      <td>Loved it!!!</td>\n",
       "      <td>Yes</td>\n",
       "      <td>1</td>\n",
       "    </tr>\n",
       "    <tr>\n",
       "      <th>...</th>\n",
       "      <td>...</td>\n",
       "      <td>...</td>\n",
       "      <td>...</td>\n",
       "      <td>...</td>\n",
       "      <td>...</td>\n",
       "      <td>...</td>\n",
       "      <td>...</td>\n",
       "      <td>...</td>\n",
       "      <td>...</td>\n",
       "    </tr>\n",
       "    <tr>\n",
       "      <th>95</th>\n",
       "      <td>CUST096</td>\n",
       "      <td>30.0</td>\n",
       "      <td>California</td>\n",
       "      <td>70000.0</td>\n",
       "      <td>10.0</td>\n",
       "      <td>NaT</td>\n",
       "      <td>Ok</td>\n",
       "      <td>No</td>\n",
       "      <td>0</td>\n",
       "    </tr>\n",
       "    <tr>\n",
       "      <th>96</th>\n",
       "      <td>CUST097</td>\n",
       "      <td>25.0</td>\n",
       "      <td>California</td>\n",
       "      <td>50000.0</td>\n",
       "      <td>NaN</td>\n",
       "      <td>NaT</td>\n",
       "      <td>would buy again</td>\n",
       "      <td>NaN</td>\n",
       "      <td>1</td>\n",
       "    </tr>\n",
       "    <tr>\n",
       "      <th>97</th>\n",
       "      <td>CUST098</td>\n",
       "      <td>25.0</td>\n",
       "      <td>NaN</td>\n",
       "      <td>53158.0</td>\n",
       "      <td>1.0</td>\n",
       "      <td>NaT</td>\n",
       "      <td>Great product!</td>\n",
       "      <td>No</td>\n",
       "      <td>1</td>\n",
       "    </tr>\n",
       "    <tr>\n",
       "      <th>98</th>\n",
       "      <td>CUST099</td>\n",
       "      <td>25.0</td>\n",
       "      <td>California</td>\n",
       "      <td>50000.0</td>\n",
       "      <td>3.0</td>\n",
       "      <td>NaT</td>\n",
       "      <td>Great product!</td>\n",
       "      <td>Yes</td>\n",
       "      <td>1</td>\n",
       "    </tr>\n",
       "    <tr>\n",
       "      <th>99</th>\n",
       "      <td>CUST100</td>\n",
       "      <td>57.0</td>\n",
       "      <td>California</td>\n",
       "      <td>70000.0</td>\n",
       "      <td>NaN</td>\n",
       "      <td>NaT</td>\n",
       "      <td>Loved it!!!</td>\n",
       "      <td>Yes</td>\n",
       "      <td>1</td>\n",
       "    </tr>\n",
       "  </tbody>\n",
       "</table>\n",
       "<p>100 rows × 9 columns</p>\n",
       "</div>"
      ],
      "text/plain": [
       "   CustomerID   Age       State   Income  Purchases LastPurchaseDate  \\\n",
       "0     CUST001  40.0  California  40000.0        0.0              NaT   \n",
       "1     CUST002  40.0  California  40000.0        1.0              NaT   \n",
       "2     CUST003  60.0    New York  40000.0       10.0              NaT   \n",
       "3     CUST004  57.0  California  53158.0       10.0              NaT   \n",
       "4     CUST005  57.0  California  40000.0        NaN       2021-05-20   \n",
       "..        ...   ...         ...      ...        ...              ...   \n",
       "95    CUST096  30.0  California  70000.0       10.0              NaT   \n",
       "96    CUST097  25.0  California  50000.0        NaN              NaT   \n",
       "97    CUST098  25.0         NaN  53158.0        1.0              NaT   \n",
       "98    CUST099  25.0  California  50000.0        3.0              NaT   \n",
       "99    CUST100  57.0  California  70000.0        NaN              NaT   \n",
       "\n",
       "             Review Churn  PositiveReview  \n",
       "0               NaN   NaN               0  \n",
       "1               NaN   NaN               0  \n",
       "2               NaN    No               0  \n",
       "3    Great product!   Yes               1  \n",
       "4       Loved it!!!   Yes               1  \n",
       "..              ...   ...             ...  \n",
       "95               Ok    No               0  \n",
       "96  would buy again   NaN               1  \n",
       "97   Great product!    No               1  \n",
       "98   Great product!   Yes               1  \n",
       "99      Loved it!!!   Yes               1  \n",
       "\n",
       "[100 rows x 9 columns]"
      ]
     },
     "execution_count": 26,
     "metadata": {},
     "output_type": "execute_result"
    }
   ],
   "source": [
    "#Final Dataframe\n",
    "cleaned_dataset"
   ]
  }
 ],
 "metadata": {
  "kernelspec": {
   "display_name": ".venv",
   "language": "python",
   "name": "python3"
  },
  "language_info": {
   "codemirror_mode": {
    "name": "ipython",
    "version": 3
   },
   "file_extension": ".py",
   "mimetype": "text/x-python",
   "name": "python",
   "nbconvert_exporter": "python",
   "pygments_lexer": "ipython3",
   "version": "3.13.1"
  }
 },
 "nbformat": 4,
 "nbformat_minor": 5
}
